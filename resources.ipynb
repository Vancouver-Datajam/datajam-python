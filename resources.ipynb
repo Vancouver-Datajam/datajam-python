{
 "cells": [
  {
   "cell_type": "markdown",
   "metadata": {
    "slideshow": {
     "slide_type": "slide"
    }
   },
   "source": [
    "# Additional Resources\n",
    "\n",
    "### Python and Data Science Resources\n",
    "\n",
    "- [Jupyter tutorial](https://nbviewer.jupyter.org/github/jenfly/jupyter-quickstart/blob/master/quickstart.ipynb)\n",
    "- [Python cheat sheet](https://www.pythoncheatsheet.org/#Python-Basics)\n",
    "- [Kaggle courses](https://www.kaggle.com/learn/overview)\n",
    "  - [Kaggle Python Basics course](https://www.kaggle.com/learn/python)\n",
    "- [Dataquest courses](https://www.dataquest.io/) and [Dataquest blog](https://www.dataquest.io/blog/) \n",
    "- [Data Camp courses](https://www.datacamp.com/courses/intro-to-python-for-data-science)\n",
    "- [Whirlwind Tour of Python - JakeVanderPlas](https://jakevdp.github.io/WhirlwindTourOfPython/)\n",
    "- [Python Data Science Handbook - JakeVanderPlas](https://jakevdp.github.io/PythonDataScienceHandbook/)\n",
    "- [Software Carpentry](https://software-carpentry.org/lessons/)\n",
    "- [Data Carpentry](https://datacarpentry.org/lessons/)\n",
    "- [U of T Coders Workshop](https://uoftcoders.github.io/2018-09-10-utoronto/)\n",
    "\n",
    "### Pandas, Seaborn, and Plotly Tutorials\n",
    "\n",
    "- [Pandas tutorial](https://pandas.pydata.org/docs/getting_started/index.html) and [cheat sheet](https://pandas.pydata.org/Pandas_Cheat_Sheet.pdf)\n",
    "- Seaborn [quick intro tutorial](https://seaborn.pydata.org/introduction.html) and [detailed tutorials](https://seaborn.pydata.org/tutorial.html)\n",
    "- [Plotly Express tutorial](https://plotly.com/python/plotly-express/)\n",
    "\n",
    "\n",
    "### Other Inspiration and Ideas\n",
    "\n",
    "- PyData 101 - Jake VanderPlas [(talk)](https://www.youtube.com/watch?v=DifMYH3iuFw) [(slides)](https://speakerdeck.com/jakevdp/pydata-101)\n",
    "- [The Python Visualization Landscape - Jake VanderPlas](https://www.youtube.com/watch?v=FytuB8nFHPQ)\n",
    "- [Reproducible Data Analysis in Jupyter – Jake VanderPlas](http://jakevdp.github.io/blog/2017/03/03/reproducible-data-analysis-in-jupyter/)\n",
    "- [Project Jupyter: From Interactive Python to Open Science - Fernando Perez](https://www.youtube.com/watch?v=xuNj5paMuow)\n",
    "\n",
    "---\n",
    "Back to [home](0-jupyter.ipynb)"
   ]
  }
 ],
 "metadata": {
  "kernelspec": {
   "display_name": "Python 3",
   "language": "python",
   "name": "python3"
  },
  "language_info": {
   "codemirror_mode": {
    "name": "ipython",
    "version": 3
   },
   "file_extension": ".py",
   "mimetype": "text/x-python",
   "name": "python",
   "nbconvert_exporter": "python",
   "pygments_lexer": "ipython3",
   "version": "3.8.3"
  }
 },
 "nbformat": 4,
 "nbformat_minor": 4
}
