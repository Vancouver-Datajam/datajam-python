{
 "cells": [
  {
   "cell_type": "markdown",
   "metadata": {
    "slideshow": {
     "slide_type": "slide"
    }
   },
   "source": [
    "# Syntax Summary\n",
    "\n",
    "## Pandas\n",
    "\n",
    "### Importing `pandas` Library\n",
    "```python\n",
    "import pandas\n",
    "```\n",
    "> In general, it's good practice to collect all your `import` commands together and put them at the start of the notebook.\n",
    "\n",
    "### DataFrames and Series\n",
    "\n",
    "Data in `pandas` is organized into DataFrames and Series.\n",
    "\n",
    "- **DataFrame:** 2-dimensional array, like a table in a spreadsheet\n",
    "- **Series:** 1-dimensional array, like a single column or row in a spreadsheet\n",
    "  - Each individual column or row of a DataFrame is represented as a Series\n",
    "\n",
    "### Reading a CSV File\n",
    "\n",
    "To read a CSV file and store it as a DataFrame variable:\n",
    "```python\n",
    "df = pandas.read_csv('some_cool_data.csv')\n",
    "```\n",
    "\n",
    "Missing data in a DataFrame or Series is represented as `NaN` (\"not a number\").\n",
    "\n",
    "### Saving to a CSV File\n",
    "\n",
    "To save a DataFrame to a CSV file: \n",
    "```python\n",
    "df.to_csv('cool_output.csv', index=False)\n",
    "```\n",
    "- To include the DataFrame's index as a column in the CSV file, omit the `index=False` keyword argument."
   ]
  },
  {
   "cell_type": "markdown",
   "metadata": {
    "slideshow": {
     "slide_type": "slide"
    }
   },
   "source": [
    "### Quick and Easy Summaries of a DataFrame\n",
    "\n",
    "|||\n",
    "---|----\n",
    "**General Overview** | \n",
    "Number of rows and columns; names, data types, and non-null counts for each column; memory usage | `df.info()`\n",
    "**Useful Attributes** |\n",
    "Number of rows and columns (rows first, columns second) | `df.shape` \n",
    "Names and data types of each column |  `df.dtypes` \n",
    "Just the names of each column | `df.columns` \n",
    "**Rows at a Glance** |\n",
    "First `n` rows (default 5) |`df.head(n)`\n",
    "Last `n` rows (default 5) | `df.tail(n)`\n",
    "A random sampling of `n` rows (default 1) | `df.sample(n)`"
   ]
  },
  {
   "cell_type": "markdown",
   "metadata": {
    "slideshow": {
     "slide_type": "slide"
    }
   },
   "source": [
    "#### Summary Statistics\n",
    "\n",
    "Full set of summary statistics (min, max, mean, standard deviation, etc.) for each numerical column of a DataFrame:\n",
    "```python\n",
    "df.describe()\n",
    "```\n",
    "\n",
    "Mean value of each column:\n",
    "```python\n",
    "df.mean()\n",
    "```\n",
    "\n",
    "And similarly for other summary statistics: `df.min()`, `df.max()`, `df.median()`, `df.std()`"
   ]
  },
  {
   "cell_type": "markdown",
   "metadata": {
    "slideshow": {
     "slide_type": "slide"
    }
   },
   "source": [
    "### Selecting Columns\n",
    "\n",
    "#### Single Columns\n",
    "\n",
    "Each column of a DataFrame is a Series.\n",
    "```python\n",
    "series_X = df['X']\n",
    "```\n",
    "\n",
    "Most DataFrame methods can be applied to a Series, for example:\n",
    "```python\n",
    "df['X'].head()\n",
    "df['X'].max()\n",
    "```\n",
    "\n",
    "#### Multiple Columns\n",
    "\n",
    "Use a list of column names to select several columns of a DataFrame, in a specified order:\n",
    "```python\n",
    "df_subset = df[['E', 'A', 'C']]\n",
    "```"
   ]
  },
  {
   "cell_type": "markdown",
   "metadata": {
    "slideshow": {
     "slide_type": "slide"
    }
   },
   "source": [
    "### Selecting Rows\n",
    "\n",
    "Extracting rows from a DataFrame or Series based on a criteria:\n",
    "  - Create a filter (Boolean Series) using a comparison operator or other functions (such as the `isin()` method)\n",
    "  - Use the filter to extract the desired rows from the DataFrame\n",
    "\n",
    "Example:\n",
    "```python\n",
    "world_long_life = world[world['life_expectancy'] > 82] \n",
    "```\n",
    "\n",
    "### Selecting Rows and Columns\n",
    "\n",
    "To select both rows and columns, use `.loc[<rows>, <columns>]`:\n",
    "```python\n",
    "canada_pop = world.loc[world['country'] == 'Canada', \n",
    "                       ['country', 'year', 'population']\n",
    "                      ]\n",
    "```\n",
    "\n",
    "### Creating New Columns\n",
    "\n",
    "```python\n",
    "df['Double X'] = 2 * df['X']\n",
    "```"
   ]
  },
  {
   "cell_type": "markdown",
   "metadata": {
    "slideshow": {
     "slide_type": "slide"
    }
   },
   "source": [
    "### Unique Values & Counting\n",
    "\n",
    "For a column `df['A']` which contains many repeated values (such as categories), some useful summary methods are:\n",
    "\n",
    "|||\n",
    "---|---\n",
    "Unique values | `df['A'].unique()`\n",
    "Number of unique values | `df['A'].nunique()`\n",
    "Counts of each unique value | `df['A'].value_counts()`\n",
    "\n",
    "> Note: The `unique()` and `value_counts()` methods can only be applied to a Series (not a DataFrame)"
   ]
  },
  {
   "cell_type": "markdown",
   "metadata": {
    "slideshow": {
     "slide_type": "slide"
    }
   },
   "source": [
    "### Sorting\n",
    "\n",
    "Sorting a DataFrame based on the values in the column `'B'`:\n",
    "```python\n",
    "df.sort_values('B')\n",
    "```\n",
    "To sort in descending order, use the keyword argument `ascending=False`."
   ]
  },
  {
   "cell_type": "markdown",
   "metadata": {
    "slideshow": {
     "slide_type": "slide"
    }
   },
   "source": [
    "### Aggregation\n",
    "\n",
    "For basic aggregation operations, use the `groupby()` method chained with an aggregation method (e.g., `sum()`, `mean()`, `sum()`, `max()`, etc.)\n",
    "- Use `as_index=False` keyword argument to keep the grouping variable as a regular column rather than the index\n",
    "\n",
    "For example, to find the sum totals of column `'population'` grouped by column `'region'`: `\n",
    "```python\n",
    "world_2015.groupby('region', as_index=False)['population'].sum()\n",
    "```\n",
    "\n",
    "You can also group by multiple columns:\n",
    "```python\n",
    "world_2015.groupby(['region', 'income_group'], as_index=False)['population'].sum()\n",
    "```\n",
    "\n",
    "For more complex aggregations, you can use the `agg` method:\n",
    "\n",
    "Specify a list of aggregation statistics, for example: \n",
    "```python\n",
    "world_2015.groupby('region', as_index=False)['population'].agg(['sum', 'min', 'max'])\n",
    "```\n",
    "\n",
    "Use a dictionary to specify different aggregation statistics for different columns, for example:\n",
    "\n",
    "```python\n",
    "agg_dict = {'population' : 'sum', \n",
    "            'life_expectancy' : ['min', 'max']}\n",
    "world.groupby('region', as_index=False).agg(agg_dict)\n",
    "```"
   ]
  },
  {
   "cell_type": "markdown",
   "metadata": {},
   "source": [
    "## Data Visualization\n",
    "\n",
    "## Simple Plots with Pandas\n",
    "\n",
    "Bar plot:\n",
    "\n",
    "```python\n",
    "region_pop.plot(x='region', y='pop_millions', kind='bar');\n",
    "```\n",
    "\n",
    "Scatter plot:\n",
    "\n",
    "```python\n",
    "world_2015.plot(x='gdp_per_capita', y='life_expectancy', kind='scatter');\n",
    "```\n",
    "\n",
    "## Statistical Plots with Seaborn\n",
    "\n",
    "Import library:\n",
    "\n",
    "```python\n",
    "import seaborn as sns\n",
    "```\n",
    "\n",
    "Switch to `seaborn` default aesthetics:\n",
    "\n",
    "```python\n",
    "sns.set()\n",
    "```\n",
    "\n",
    "Example scatter plot with axes customization:\n",
    "\n",
    "```python\n",
    "g = sns.relplot(data=world_2015, x='gdp_per_capita', y='life_expectancy', hue='region',\n",
    "                size='pop_millions', sizes=(40, 400), alpha=0.8)\n",
    "g.set(xscale='log', title='Life Expectancy vs. GDP per Capita in 2015');\n",
    "```\n",
    "\n",
    "Example scatter plot with facets:\n",
    "\n",
    "```python\n",
    "income_order= ['Low', 'Lower middle', 'Upper middle', 'High']\n",
    "g = sns.relplot(data=world_2015, x='gdp_per_capita', y='life_expectancy', col='region',\n",
    "                col_wrap=3, height=3, hue='income_group', hue_order=income_order)\n",
    "g.set(xscale='log');\n",
    "```\n",
    "\n",
    "Example line plot with aggregation and facets:\n",
    "\n",
    "```python\n",
    "sns.relplot(data=world, x='year', y='pop_millions', hue='income_group', hue_order=income_order,\n",
    "            style='income_group', kind='line', estimator='sum', ci=None, col='region',\n",
    "            col_wrap=3, height=3);\n",
    "```\n",
    "\n",
    "Example bar plot with aggregation:\n",
    "\n",
    "```python\n",
    "g = sns.catplot(data=world_2015, x='region', y='life_expectancy', kind='bar', aspect=1.5)\n",
    "g.set(title='Mean Life Expectancy by Region in 2015');\n",
    "```\n",
    "\n",
    "## Interactive Plots with Plotly\n",
    "\n",
    "Import Plotly Express:\n",
    "\n",
    "```python\n",
    "import plotly.express as px\n",
    "```\n",
    "\n",
    "Example scatter plot:\n",
    "\n",
    "```python\n",
    "px.scatter(data_frame=world_2015, x='gdp_per_capita', y='life_expectancy', color='region',\n",
    "           size='pop_millions', size_max=30, log_x=True, hover_data=['country'],\n",
    "           title='Life Expectancy vs. GDP per Capita in 2015')\n",
    "```\n",
    "\n",
    "Example scatter plot with facets:\n",
    "\n",
    "```python\n",
    "px.scatter(data_frame=world_2015, x='gdp_per_capita', y='life_expectancy', \n",
    "           facet_col='region', facet_col_wrap=3,\n",
    "           color='income_group', category_orders={'income_group' : income_order},\n",
    "           log_x=True, hover_data=['country'],\n",
    "           title='Life Expectancy vs. GDP per Capita in 2015')\n",
    "```\n",
    "\n",
    "Example scatter plot with animation:\n",
    "\n",
    "```python\n",
    "px.scatter(data_frame=world, x='gdp_per_capita', y='life_expectancy', color='region',\n",
    "           size='pop_millions', size_max=30, log_x=True, range_y=(20, 90),\n",
    "           title='Life Expectancy vs. GDP per Capita (1950-2015)',\n",
    "           animation_frame='year')\n",
    "```\n",
    "\n",
    "---\n",
    "Back to [home](0-jupyter.ipynb)"
   ]
  }
 ],
 "metadata": {
  "kernelspec": {
   "display_name": "Python 3",
   "language": "python",
   "name": "python3"
  },
  "language_info": {
   "codemirror_mode": {
    "name": "ipython",
    "version": 3
   },
   "file_extension": ".py",
   "mimetype": "text/x-python",
   "name": "python",
   "nbconvert_exporter": "python",
   "pygments_lexer": "ipython3",
   "version": "3.7.9"
  }
 },
 "nbformat": 4,
 "nbformat_minor": 4
}
